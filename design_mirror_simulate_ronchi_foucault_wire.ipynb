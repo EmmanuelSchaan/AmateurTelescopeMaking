{
 "cells": [
  {
   "cell_type": "code",
   "execution_count": 1,
   "metadata": {},
   "outputs": [],
   "source": [
    "import numpy as np\n",
    "import matplotlib.pyplot as plt\n",
    "from scipy import optimize\n",
    "from scipy.interpolate import interp1d\n",
    "\n",
    "# to delete files, for animations\n",
    "import os\n",
    "# for generating animations in parallel\n",
    "from pathos.multiprocessing import ProcessPool"
   ]
  },
  {
   "cell_type": "code",
   "execution_count": 2,
   "metadata": {},
   "outputs": [],
   "source": [
    "# unit conversion\n",
    "inchToMm = 2.54 * 10."
   ]
  },
  {
   "cell_type": "markdown",
   "metadata": {},
   "source": [
    "# Mirror input"
   ]
  },
  {
   "cell_type": "code",
   "execution_count": 3,
   "metadata": {},
   "outputs": [],
   "source": [
    "# Blank diameter [mm]\n",
    "D = 10. * inchToMm\n",
    "\n",
    "# Focal length [mm]\n",
    "fNumber = 5.   # \"f number\"\n",
    "lf = D*fNumber # [mm]\n",
    "\n",
    "# Depth of the blank [mm]\n",
    "depth = D / 6."
   ]
  },
  {
   "cell_type": "code",
   "execution_count": 4,
   "metadata": {},
   "outputs": [],
   "source": [
    "########################################################################\n",
    "# Equations for the circle and parabola, for a given circle radius Rc\n",
    "\n",
    "def zCircCenter(Rc):\n",
    "   \"\"\"Height of the circle center [mm]\n",
    "   Rc: circle radius [mm]\n",
    "   \"\"\"\n",
    "   return np.sqrt(Rc**2 - (D/2.)**2)\n",
    "\n",
    "\n",
    "def zCirc(r, Rc):\n",
    "   \"\"\"Equation for the circle.\n",
    "   Rc: circle radius [mm]\n",
    "   r: polar coordinate [mm]\n",
    "   Output: height z [mm]\n",
    "   \"\"\"\n",
    "   result = zCircCenter(Rc)\n",
    "   result -= np.sqrt(Rc**2 - r**2)\n",
    "   return result\n",
    "\n",
    "\n",
    "def rContact(Rc):\n",
    "   \"\"\"Polar radius [mm] of the contact point between the circle and parabola.\n",
    "   \"\"\"\n",
    "   return np.sqrt(Rc**2 - 4.*lf**2)\n",
    "\n",
    "def sagittaCirc(Rc):\n",
    "   \"\"\"Maximum depth of the sphere [mm],\n",
    "   given the radius Rc [mm]\n",
    "   \"\"\"\n",
    "   result = Rc - zCircCenter(Rc)\n",
    "   return result\n",
    "\n",
    "\n",
    "########################################################################\n",
    "# Equation for parabola\n",
    "\n",
    "def zParaOffset(Rc):\n",
    "   \"\"\"Vertical offset [mm] for the parabola,\n",
    "   to be tangent to the circle at the desired polar radius.\n",
    "   Rc: circle radius [mm]\n",
    "   \"\"\"\n",
    "   rC = rContact(Rc)\n",
    "   result = zCircCenter(Rc)\n",
    "   result -= np.sqrt(Rc**2 - rC**2)\n",
    "   result -= rC**2 / (4.*lf)\n",
    "   return result\n",
    "\n",
    "def zFocus(Rc):\n",
    "   \"\"\"Height [mm] of the focal point of the parabola,\n",
    "   given the circle radius Rc [mm]\n",
    "   \"\"\"\n",
    "   result = zParaOffset(Rc) + lf\n",
    "   return result\n",
    "\n",
    "def zPara(r, Rc):\n",
    "   \"\"\"Equation for the parabola,\n",
    "   with vertical offset determined to be tangent to the circle of radius Rc\n",
    "   \"\"\"\n",
    "   result = zParaOffset(Rc)\n",
    "   result += r**2 / (4. * lf)\n",
    "   return result\n",
    "\n",
    "def dzPara(r, Rc):\n",
    "   \"\"\"First derivative of the parabola\n",
    "   \"\"\"\n",
    "   result = 2. * r / (4. * lf)\n",
    "   return result\n",
    "\n",
    "def d2zPara(r, Rc):\n",
    "   \"\"\"Second derivative of the parabola\n",
    "   \"\"\"\n",
    "   result = 2. / (4. * lf)\n",
    "   return result\n",
    "\n",
    "def rCurv(r, Rc):\n",
    "   \"\"\"Radius of curvature of the parabola\n",
    "   \"\"\"\n",
    "   result = (1. + dzPara(r, Rc)**2)**(3./2.)\n",
    "   result /= np.abs(d2zPara(r, Rc))\n",
    "   return result\n",
    "\n",
    "\n",
    "########################################################################\n",
    "# Find the circle radius Rc, to have the desired rContact = alpha * D/2\n",
    "# Wisdom says alpha = 0.7\n",
    "\n",
    "def RcForContact(alpha):\n",
    "   \"\"\"Find Rc needed for contact at rContact = alpha * D/2\n",
    "   \"\"\"\n",
    "   result = (alpha*D/2.)**2\n",
    "   result += 4. * lf**2\n",
    "   return np.sqrt(result)\n",
    "\n",
    "# Typical wisdom is to have the contact point at 70%\n",
    "# of the radius of the blank\n",
    "Rc70 = RcForContact(0.7)\n",
    "\n",
    "\n",
    "########################################################################\n",
    "# Find the circle radius that minimizes the volume between the parabola and the circle\n",
    "\n",
    "def dVolumedRc(Rc):\n",
    "   \"\"\"Quantity proportional to the derivative of the volume between circle and parabola,\n",
    "   with respect to the circle radius.\n",
    "   Find the root of this function to minimize the volume between the sphere\n",
    "   and paraboloid.\n",
    "   \"\"\"\n",
    "   beta = Rc / (D/2.)\n",
    "   result = 1. - np.sqrt(1. - 1./beta**2)\n",
    "   result -= 1. / (8.*beta*fNumber)\n",
    "   return result\n",
    "\n",
    "\n",
    "# guess for the circle radius: twice the focal length\n",
    "RcGuess = 2. * D * fNumber\n",
    "RcBest = optimize.brentq(dVolumedRc , 0.9*RcGuess, 1.1*RcGuess)\n",
    "rContactBest = rContact(RcBest)\n",
    "alphaBest = rContactBest/(D/2.)"
   ]
  },
  {
   "cell_type": "markdown",
   "metadata": {},
   "source": [
    "# Derived mirror specs"
   ]
  },
  {
   "cell_type": "code",
   "execution_count": 11,
   "metadata": {},
   "outputs": [
    {
     "name": "stdout",
     "output_type": "stream",
     "text": [
      "Primary diameter = 254.0 mm = 10.0 inch\n",
      "Aperture area = 506.7 cm^2,\n",
      "ie  1316 times the area of fully dilated eye pupil (7mm)\n",
      "ie limiting apparent magnitude is 13.8\n",
      "compared to 6 for the naked eye.\n",
      "Diffraction limit = 0.4 arcsec in blue and  0.79 arcsec in red\n",
      "\n",
      "f number = 5.0\n",
      "focal length = 1270.0 mm = 50.0 inch\n",
      "Min useful magnification, for fully dilated eye pupil (7mm) = 36.3\n",
      "ie max useful eyepiece focal length = 35.0 mm\n",
      "Magnification = 127.0 63.5 36.3 for 10 20 30mm eyepiece focal length\n",
      "\n",
      "To minimize the volume between sphere and paraboloid,\n",
      "the contact point should be at a fraction 0.7072 of the blank radius.\n",
      "The wisdom is 0.7.\n",
      "Hence the best circle radius = 2541.587 mm = 100.062 inch\n",
      "The guess would be twice the focal length, ie 2540.0 mm = 100.0 inch\n",
      "Circle sagitta = 3.175 mm = 0.125 inch\n"
     ]
    }
   ],
   "source": [
    "print(\"Primary diameter =\", D, \"mm =\", D / inchToMm, \"inch\")\n",
    "print(\"Aperture area =\", np.round(np.pi*(0.1*D/2.)**2, 1), \"cm^2,\")\n",
    "print(\"ie \", int((D/7.)**2), \"times the area of fully dilated eye pupil (7mm)\")\n",
    "print(\"ie limiting apparent magnitude is\", np.round(6 + 2.512*np.log10((D/7.)**2), 1))\n",
    "print(\"compared to 6 for the naked eye.\")\n",
    "\n",
    "resBlueArcsec = 1.22 * 400.e-9/(D*1.e-3) * (180.*3600./np.pi)\n",
    "resRedArcsec = 1.22 * 800.e-9/(D*1.e-3) * (180.*3600./np.pi)\n",
    "print(\"Diffraction limit =\", np.round(resBlueArcsec, 2), \"arcsec in blue and \", np.round(resRedArcsec, 2), \"arcsec in red\")\n",
    "\n",
    "print(\"\")\n",
    "print(\"f number =\", fNumber)\n",
    "print(\"focal length =\", lf, \"mm =\", lf / inchToMm, \"inch\")\n",
    "print(\"Min useful magnification, for fully dilated eye pupil (7mm) =\", np.round(D/7.,1))\n",
    "print(\"ie max useful eyepiece focal length =\", np.round(7. * fNumber,1), \"mm\")\n",
    "print(\"Magnification =\", np.round(lf/10.,1), np.round(lf/20.,1), np.round(lf/35.,1), \"for 10 20 30mm eyepiece focal length\")\n",
    "\n",
    "print(\"\")\n",
    "print(\"To minimize the volume between sphere and paraboloid,\")\n",
    "print(\"the contact point should be at a fraction\", np.round(alphaBest, 4), \"of the blank radius.\")\n",
    "print(\"The wisdom is 0.7.\")\n",
    "\n",
    "print(\"Hence the best circle radius =\", np.round(RcBest, 3), \"mm =\", np.round(RcBest/inchToMm, 3), \"inch\")\n",
    "print(\"The guess would be twice the focal length, ie\", RcGuess, \"mm =\", np.round(RcGuess/inchToMm, 3), \"inch\")\n",
    "\n",
    "print(\"Circle sagitta =\", np.round(sagittaCirc(RcBest),5), \"mm =\", np.round(sagittaCirc(RcBest) / inchToMm,5), \"inch\")"
   ]
  },
  {
   "cell_type": "markdown",
   "metadata": {},
   "source": [
    "# Plot the mirror curve"
   ]
  },
  {
   "cell_type": "code",
   "execution_count": 12,
   "metadata": {},
   "outputs": [
    {
     "data": {
      "image/png": "[encoded data removed]",
      "text/plain": [
       "<Figure size 432x288 with 1 Axes>"
      ]
     },
     "metadata": {
      "needs_background": "light"
     },
     "output_type": "display_data"
    },
    {
     "data": {
      "image/png": "[encoded data removed]",
      "text/plain": [
       "<Figure size 432x288 with 1 Axes>"
      ]
     },
     "metadata": {
      "needs_background": "light"
     },
     "output_type": "display_data"
    }
   ],
   "source": [
    "R = np.linspace(-D/2., D/2., 501)\n",
    "ZCirc = zCirc(R, RcBest)\n",
    "ZPara = zPara(R, RcBest)\n",
    "\n",
    "\n",
    "fig=plt.figure(0)\n",
    "ax=fig.add_subplot(111)\n",
    "#\n",
    "# Circle\n",
    "ax.plot(R*0.1, ZCirc, label=r'Circle')\n",
    "# Parabola\n",
    "ax.plot(R*0.1, ZPara, label=r'Parabola')\n",
    "#\n",
    "# Contact points\n",
    "ax.plot(np.array([-rContactBest, rContactBest])*0.1, [zCirc(rContactBest, RcBest), zCirc(rContactBest, RcBest)], 'ko')\n",
    "#\n",
    "# Blank\n",
    "ax.plot(R*0.1, np.zeros_like(R), 'k--')\n",
    "ax.plot(R*0.1, -depth * np.ones_like(R), 'k--')\n",
    "ax.plot(np.array([-D/2., -D/2.])*0.1, [-depth, 0.], 'k--')\n",
    "ax.plot(np.array([D/2., D/2.])*0.1, [-depth, 0.], 'k--')\n",
    "#\n",
    "ax.legend(loc=3)\n",
    "ax.set_xlabel(r'$r$ [cm]')\n",
    "ax.set_ylabel(r'$z$ [mm]')\n",
    "#\n",
    "fig.savefig(\"./figures/circle.pdf\", bbox_inches='tight')\n",
    "\n",
    "\n",
    "\n",
    "fig=plt.figure(1)\n",
    "ax=fig.add_subplot(111)\n",
    "#\n",
    "# Show tolerances for red, green and blue wavelengths:\n",
    "# should be wavelength/8 to reach the Rayleigh criterion for a miror,\n",
    "# and wavelength/4 for a lens\n",
    "tol = 8.\n",
    "ax.fill_between(R*0.1, -800.e-3/tol, 800.e-3/tol, edgecolor=None, facecolor='r', alpha=0.2)\n",
    "ax.fill_between(R*0.1, -600.e-3/tol, 600.e-3/tol, edgecolor=None, facecolor='g', alpha=0.2)\n",
    "ax.fill_between(R*0.1, -400.e-3/tol, 400.e-3/tol, edgecolor=None, facecolor='b', alpha=0.2)\n",
    "#\n",
    "# Compare circle and parabola\n",
    "ax.plot(R*0.1, 0.*R, 'k--', label=r'Circle')\n",
    "ax.plot(R*0.1, (ZPara - ZCirc)*1.e3, 'k', label=r'Parabola')\n",
    "#\n",
    "# Contact points\n",
    "ax.plot(np.array([-rContactBest, rContactBest])*0.1, [0., 0.], 'ko')\n",
    "#\n",
    "ax.legend(loc=2, fontsize='x-small')\n",
    "ax.set_xlabel(r'$r$ [cm]')\n",
    "ax.set_ylabel(r'$z_\\text{Parabola} - z_\\text{Circle}$ [$\\mu$m]')\n",
    "#\n",
    "fig.savefig(\"./figures/parabola_vs_circle.pdf\", bbox_inches='tight')\n",
    "\n",
    "plt.show()"
   ]
  },
  {
   "cell_type": "markdown",
   "metadata": {},
   "source": [
    "# Spherical aberration needed for a source at the center of sphere"
   ]
  },
  {
   "cell_type": "code",
   "execution_count": 13,
   "metadata": {},
   "outputs": [],
   "source": [
    "def zIntercept(zS, r0, RcBest):\n",
    "   '''Compute the height of the tip of the reflected cone, when\n",
    "   zS: height of the light source (LED) [mm] \n",
    "   r0: the light reflects on the mirror annulus at radius r0\n",
    "   RcBest: defines the parabolic mirror curve\n",
    "   '''\n",
    "   # given the parabolic mirror curve,\n",
    "   # height of the mirror annulus at r0 [mm]\n",
    "   z0 = zPara(r0, RcBest)\n",
    "   dz0 = dzPara(r0, RcBest)\n",
    "   # vector u, incident light vector\n",
    "   # from the light source to the mirror annulus\n",
    "   u = np.array([r0 - 0., z0 - zS])\n",
    "   # vector t, tangent to the parabolic mirror\n",
    "   # at the given annulus, outwards\n",
    "   t = np.array([1., dz0])\n",
    "   t /= np.sqrt(np.sum(t**2))\n",
    "   # vector n, normal to the parabolic mirror\n",
    "   # at the given annulus, upwards\n",
    "   n = np.array([-dz0, 1.])\n",
    "   n /= np.sqrt(np.sum(n**2))\n",
    "   # vector v, reflected light vector\n",
    "   # from the mirror annulus to the intercept point\n",
    "   v = np.dot(u, t) * t - np.dot(u, n) * n\n",
    "   # height of the intercept,\n",
    "   # where the reflected light hits the optical axis\n",
    "   result = z0 - r0 * v[1]/v[0]\n",
    "   return result\n"
   ]
  },
  {
   "cell_type": "code",
   "execution_count": 42,
   "metadata": {},
   "outputs": [
    {
     "name": "stderr",
     "output_type": "stream",
     "text": [
      "/var/folders/yv/l45zjwhd6c9115whr40r77kc0000gn/T/ipykernel_40264/2876382393.py:27: RuntimeWarning: invalid value encountered in double_scalars\n",
      "  result = z0 - r0 * v[1]/v[0]\n"
     ]
    },
    {
     "data": {
      "image/png": "[encoded data removed]",
      "text/plain": [
       "<Figure size 432x288 with 1 Axes>"
      ]
     },
     "metadata": {
      "needs_background": "light"
     },
     "output_type": "display_data"
    }
   ],
   "source": [
    "# Zones on the disk\n",
    "R0 = np.linspace(0., D/2., 101)\n",
    "# consider a light source at the center of the best Sphere\n",
    "zS = zCircCenter(RcBest)\n",
    "# computing the heights of the focus points for each zone\n",
    "f = lambda r0:  zIntercept(zS, r0, RcBest)\n",
    "ZFocus = np.array(list(map(f, R0)))\n",
    "\n",
    "# Plot it!\n",
    "fig=plt.figure(0)\n",
    "ax=fig.add_subplot(111)\n",
    "#\n",
    "ax.plot(R0, ZFocus, 'b', label=r'Parabola')\n",
    "ax.axhline(zCircCenter(RcBest), label='Circle')\n",
    "#\n",
    "ax.legend(loc=2)\n",
    "ax.set_xlim((0., D/2.))\n",
    "ax.set_xlabel(r'Mirror zone radius $r$ [mm]')\n",
    "ax.set_ylabel(r'Height of focus point [mm]')\n",
    "ax.set_title(r'Spherical aberration (source at center)')\n",
    "\n",
    "fig.savefig(\"./figures/spherical_aberration.pdf\", bbox_inches='tight')\n",
    "# fig.clf()\n",
    "plt.show()"
   ]
  },
  {
   "cell_type": "markdown",
   "metadata": {},
   "source": [
    "# Ronchi / Foucault / wire test simulator"
   ]
  },
  {
   "cell_type": "code",
   "execution_count": 37,
   "metadata": {},
   "outputs": [],
   "source": [
    "lambdaFringe = 0.254 # [mm]\n",
    "\n",
    "def cosFringe(x, lambdaFringe=lambdaFringe):\n",
    "   ''' Fringe pattern on the grating\n",
    "   x: cartesian coordinate [mm]\n",
    "   lambdaFringe: period of the grating pattern [mm]\n",
    "   Centered on one dark fringe.\n",
    "   '''\n",
    "   return 0.5 * (1. - np.cos(2.*np.pi/lambdaFringe * x))\n",
    "\n",
    "def stepFringe(x, lambdaFringe=lambdaFringe):\n",
    "   ''' Fringe pattern on the grating\n",
    "   x: cartesian coordinate [mm]\n",
    "   lambdaFringe: period of the grating pattern [mm]\n",
    "   Centered on one dark fringe.\n",
    "   '''\n",
    "   return 1.*((x/lambdaFringe-0.25) % 1 <0.5) #-1.*(x/lambdaFringe % 1 >0.5)\n",
    "\n",
    "\n",
    "def createImage(zS, zGrating, test='Ronchi', fringe=stepFringe, lambdaFringe=lambdaFringe, nX=2001):\n",
    "   '''Compute a Ronchi image\n",
    "   zS: height of light source (LED) [mm]\n",
    "   zGrating: height of the grating [mm]\n",
    "   fringe: function defining the fringe pattern on the grating\n",
    "   nX: number of pixels in image\n",
    "   '''\n",
    "\n",
    "   # Cartesian coordinates [mm], not angular coordinates\n",
    "   # this way, for a perfect sphere, the stripes are perfectly parallel and vertical\n",
    "   x = np.linspace(-D/2., D/2., nX)\n",
    "   y = np.linspace(-D/2., D/2., nX)\n",
    "\n",
    "   ## distortions to fit an actual real life photo\n",
    "   ## apply a rotation if needed\n",
    "   #rot = [[cos t, -sint], [sin t, cos t]]\n",
    "   ## apply a shear if needed\n",
    "   #shear = [[1. + gamma1, gamma2], [gamma2, 1. - gamma1]]\n",
    "   ## apply a translation\n",
    "   #x += dx\n",
    "   #y += dy\n",
    "\n",
    "   xx, yy = np.meshgrid(x, y, indexing='ij')\n",
    "   rr = np.sqrt(xx**2 + yy**2)\n",
    "\n",
    "   # height of the mirror surface at a given radius\n",
    "   zz0 = zPara(rr, RcBest)\n",
    "\n",
    "   f = np.vectorize( lambda r: zIntercept(zS, r, RcBest) ) \n",
    "   # for speed, interpolate on 1d array\n",
    "   R = np.linspace(0., D, 2*nX)\n",
    "   F = f(R)\n",
    "   fInterp = interp1d(R, F, kind='linear', bounds_error=False, fill_value=0.)\n",
    "   # then evaluate on 2d array\n",
    "   zzIntercept = fInterp(rr)  #np.array(map(f, rr))\n",
    "   \n",
    "   if test=='Ronchi':\n",
    "#      image = fringe(xx * np.abs(1. - zGrating/zzIntercept), lambdaFringe=lambdaFringe)\n",
    "      image = fringe(xx * np.abs(zzIntercept - zGrating)/(zzIntercept - zz0), lambdaFringe=lambdaFringe)\n",
    "   elif test=='Foucault':\n",
    "      image = (zzIntercept >= zGrating) * (xx>=0.) + (zzIntercept <= zGrating) * (xx<0.)\n",
    "      #image = 2. * image - 1.\n",
    "   elif test=='Manu':\n",
    "      image = fringe(xx * np.abs(zzIntercept - zGrating)/(zzIntercept - zz0), lambdaFringe=lambdaFringe)\n",
    "      image *= fringe(yy * np.abs(zzIntercept - zGrating)/(zzIntercept - zz0), lambdaFringe=lambdaFringe)\n",
    "   elif test=='Wire':\n",
    "      width = 0.05   # [mm], determined by (but not equal to) the wire thickness\n",
    "      image = 1. * (np.abs(zzIntercept-zGrating)>width) * (np.abs(xx)>width)\n",
    "\n",
    "   image *= (rr < D/2.)\n",
    "\n",
    "   # pcolor wants x and y to be edges of cell,\n",
    "   # ie one more element, and offset by half a cell\n",
    "   dX = D / (nX-1)\n",
    "   xEdges = dX * (np.arange(nX+1) - 0.5)\n",
    "   yEdges = xEdges.copy()\n",
    "   xxEdges, yyEdges = np.meshgrid(xEdges, yEdges, indexing='ij')\n",
    "   \n",
    "   # return arrays needed by pcolormesh to plot\n",
    "   return xxEdges, yyEdges, image"
   ]
  },
  {
   "cell_type": "markdown",
   "metadata": {},
   "source": [
    "# Example Ronchi test"
   ]
  },
  {
   "cell_type": "code",
   "execution_count": 38,
   "metadata": {},
   "outputs": [
    {
     "name": "stderr",
     "output_type": "stream",
     "text": [
      "/var/folders/yv/l45zjwhd6c9115whr40r77kc0000gn/T/ipykernel_40264/2876382393.py:27: RuntimeWarning: invalid value encountered in double_scalars\n",
      "  result = z0 - r0 * v[1]/v[0]\n",
      "/var/folders/yv/l45zjwhd6c9115whr40r77kc0000gn/T/ipykernel_40264/3366429074.py:17: RuntimeWarning: invalid value encountered in remainder\n",
      "  return 1.*((x/lambdaFringe-0.25) % 1 <0.5) #-1.*(x/lambdaFringe % 1 >0.5)\n"
     ]
    },
    {
     "data": {
      "image/png": "[encoded data removed]",
      "text/plain": [
       "<Figure size 432x432 with 1 Axes>"
      ]
     },
     "metadata": {},
     "output_type": "display_data"
    }
   ],
   "source": [
    "# Ronchi test\n",
    "# height of the Ronchi grating:\n",
    "# just a bit away from the center of the sphere\n",
    "zGrating = zCircCenter(RcBest) - 6. # [mm]\n",
    "# light source position\n",
    "# zS = zCircCenter(RcBest)\n",
    "zS = zGrating\n",
    "xxEdges, yyEdges, image = createImage(zS, zGrating, test='Ronchi', fringe=stepFringe, nX=1001)\n",
    "\n",
    "\n",
    "fig=plt.figure(0, figsize=(6,6))\n",
    "ax=fig.add_subplot(111)\n",
    "#\n",
    "# outline of the mirror\n",
    "circle = plt.Circle((0.5*D, 0.5*D), 0.5*D, ec='w', fc='none')\n",
    "ax.add_artist(circle)\n",
    "# mirror test\n",
    "cp=ax.pcolormesh(xxEdges, yyEdges, image, linewidth=0, rasterized=True)\n",
    "cp.set_cmap('binary_r')\n",
    "ax\n",
    "#\n",
    "ax.set_title(\"Ronchi test\")\n",
    "ax.set_xlabel(r\"$f/$\"+str(fNumber)+r\", $D=$\"+str(D)+\"mm, $l_f=$\"+str(round(lf, 1))+\"mm\"+\"\\n\"+\"Grating \\& light move together\"+\" \\n\"+r\"$\\lambda_\\text{fringe}=$\"+str(lambdaFringe)+r\"mm, $\\delta z_\\text{grating}=$\"+str(round(zGrating-zCircCenter(RcBest), 1))+\"mm\", fontsize=16)\n",
    "plt.tick_params(axis='x', which='both', bottom=False, top=False, labelbottom=False)\n",
    "plt.tick_params(axis='y', which='both', left=False, right=False, labelleft=False)\n",
    "ax.set_xlim((-D/2., D/2.))\n",
    "ax.set_ylim((-D/2., D/2.))\n",
    "ax.axis('scaled')\n",
    "\n",
    "plt.show()"
   ]
  },
  {
   "cell_type": "markdown",
   "metadata": {},
   "source": [
    "# Example Foucault test"
   ]
  },
  {
   "cell_type": "code",
   "execution_count": 39,
   "metadata": {},
   "outputs": [
    {
     "name": "stderr",
     "output_type": "stream",
     "text": [
      "/var/folders/yv/l45zjwhd6c9115whr40r77kc0000gn/T/ipykernel_40264/2876382393.py:27: RuntimeWarning: invalid value encountered in double_scalars\n",
      "  result = z0 - r0 * v[1]/v[0]\n"
     ]
    },
    {
     "data": {
      "image/png": "[encoded data removed]",
      "text/plain": [
       "<Figure size 432x432 with 1 Axes>"
      ]
     },
     "metadata": {},
     "output_type": "display_data"
    }
   ],
   "source": [
    "# Foucault\n",
    "zGrating = zCircCenter(RcBest)\n",
    "zS = 1. * zGrating\n",
    "xxEdges, yyEdges, image = createImage(zCircCenter(RcBest), zCircCenter(RcBest), test='Foucault')\n",
    "\n",
    "\n",
    "fig=plt.figure(0, figsize=(6,6))\n",
    "ax=fig.add_subplot(111)\n",
    "#\n",
    "# outline of the mirror\n",
    "circle = plt.Circle((0.5*D, 0.5*D), 0.5*D, ec='w', fc='none')\n",
    "ax.add_artist(circle)\n",
    "# mirror test\n",
    "cp=ax.pcolormesh(xxEdges, yyEdges, image, linewidth=0, rasterized=True)\n",
    "cp.set_cmap('binary_r')\n",
    "ax\n",
    "#\n",
    "ax.set_title(\"Foucault test\")\n",
    "ax.set_xlabel(r\"$f/$\"+str(fNumber)+r\", $D=$\"+str(D)+\"mm, $l_f=$\"+str(round(lf, 1))+\"mm\"+\"\\n\"+\"Grating \\& light move together\"+\" \\n\"+r\"$\\lambda_\\text{fringe}=$\"+str(lambdaFringe)+r\"mm, $\\delta z_\\text{grating}=$\"+str(round(zGrating-zCircCenter(RcBest), 1))+\"mm\", fontsize=16)\n",
    "plt.tick_params(axis='x', which='both', bottom=False, top=False, labelbottom=False)\n",
    "plt.tick_params(axis='y', which='both', left=False, right=False, labelleft=False)\n",
    "ax.set_xlim((-D/2., D/2.))\n",
    "ax.set_ylim((-D/2., D/2.))\n",
    "ax.axis('scaled')\n",
    "\n",
    "plt.show()"
   ]
  },
  {
   "cell_type": "markdown",
   "metadata": {},
   "source": [
    "# Create video animations"
   ]
  },
  {
   "cell_type": "code",
   "execution_count": 43,
   "metadata": {},
   "outputs": [],
   "source": [
    "# video parameters\n",
    "fps = 30 # [1/sec]\n",
    "duration = 3   # [sec]\n",
    "nFrames = fps * duration   # [dimless]\n",
    "\n",
    "def CreateMovie(saveFrame, nFrames, fps, test='Ronchi', fixedLight=True, fringe=stepFringe, nX=1001):\n",
    "   '''Generate all the frames, create the video,\n",
    "   then delete the individual frames.\n",
    "   '''\n",
    "   # file name for the final animation\n",
    "   if fixedLight:\n",
    "      name = test + \"_fixedlight\"\n",
    "   else:\n",
    "      name = test + \"_samelightgrating\" \n",
    "\n",
    "   print(\"Generate all frames\")\n",
    "   f = lambda iFrame: saveFrame(iFrame, './figures/test_simulations/_tmp%05d.jpg'%iFrame, test=test, fixedLight=fixedLight)\n",
    "   pool = ProcessPool(nodes=3)\n",
    "   pool.map(f, range(nFrames))\n",
    "\n",
    "   print(\"Resize images\")\n",
    "   # resize the images to have even pixel sizes on both dimensions, important for ffmpeg\n",
    "   # this commands preserves the aspect ratio, rescales the image to fill HD as much as possible,\n",
    "   # without cropping, then pads the rest with white\n",
    "   for iFrame in range(nFrames):\n",
    "      fname = './figures/test_simulations/_tmp%05d.jpg'%iFrame \n",
    "      #os.system(\"convert \"+fname+\" -resize 1280x720 -gravity center -extent 1280x720 -background white \"+fname)\n",
    "      os.system(\"convert \"+fname+\" -resize 1000x1000 -gravity center -extent 1000x1000 -background white \"+fname)\n",
    "\n",
    "   # delete old animation\n",
    "   os.system(\"rm ./figures/test_simulations/\"+name+\".mp4\")\n",
    "   print(\"Create new animation\")\n",
    "   #os.system(\"ffmpeg -r \"+str(fps)+\" -i ./figures/test_simulations/_tmp%05d.jpg -s 1280x720 -vcodec libx264 -pix_fmt yuv420p ./figures/test_simulations/ronchi.mp4\")\n",
    "   os.system(\"ffmpeg -r \"+str(fps)+\" -i ./figures/test_simulations/_tmp%05d.jpg -s 1000x1000 -vcodec libx264 -pix_fmt yuv420p ./figures/test_simulations/\"+name+\".mp4\")\n",
    "\n",
    "\n",
    "   # delete images\n",
    "   os.system(\"rm ./figures/test_simulations/_tmp*.jpg\")\n",
    "\n",
    "\n",
    "\n",
    "\n",
    "# Physical param to vary during animation,\n",
    "# here zGrating [mm]\n",
    "tMin = -20.\n",
    "tMax = 20.\n",
    "\n",
    "# Update function for the plot\n",
    "def saveFrame(iFrame, fname, test='Ronchi', fixedLight=True, fringe=stepFringe, nX=1001):\n",
    "   '''Updates the plot as needed for the frame iFrame.\n",
    "   '''\n",
    "\n",
    "   # Translate iFrame into the physical param of interest\n",
    "   x = float(iFrame) / (nFrames - 1)\n",
    "   t = tMin * (1.-x) + tMax * x\n",
    "   print(\"frame=\"+str(iFrame)+\", value=\"+str(t))\n",
    "\n",
    "   # Update the image\n",
    "   zGrating = zCircCenter(RcBest) + t # [mm]\n",
    "   if fixedLight:\n",
    "      # Here the grating moves, but the light source is fixed\n",
    "      zS = zCircCenter(RcBest)\n",
    "   else:\n",
    "      # here the grating and the light move together\n",
    "      zS = zGrating\n",
    "   xxEdges, yyEdges, image = createImage(zS, zGrating, test=test, fringe=fringe, nX=nX)\n",
    "\n",
    "   # Create the plot \n",
    "   fig=plt.figure(0, figsize=(6,6), dpi=300)\n",
    "   ax=fig.add_subplot(111)\n",
    "   #\n",
    "   # outline of the mirror\n",
    "   circle = plt.Circle((0.5*D, 0.5*D), 0.5*D, ec='w', fc='none')\n",
    "   ax.add_artist(circle)\n",
    "   # mirror test\n",
    "   cp=ax.pcolormesh(xxEdges, yyEdges, image, linewidth=0, rasterized=True)\n",
    "   cp.set_cmap('binary_r')\n",
    "   #\n",
    "   ax.set_title(test+\" test\")\n",
    "   ax.set_xlabel(r\"$f/$\"+str(fNumber)+r\", $D=$\"+str(D)+\"mm, $l_f=$\"+str(round(lf, 1))+\"mm\"+\"\\n\"+\"Grating \\& light move together\"+\" \\n\"+r\"$\\lambda_\\text{fringe}=$\"+str(lambdaFringe)+r\"mm, $\\delta z_\\text{grating}=$\"+str(round(zGrating-zCircCenter(RcBest), 1))+\"mm\", fontsize=16)\n",
    "   plt.tick_params(axis='x', which='both', bottom=False, top=False, labelbottom=False)\n",
    "   plt.tick_params(axis='y', which='both', left=False, right=False, labelleft=False)\n",
    "   ax.set_xlim((-D/2., D/2.))\n",
    "   ax.set_ylim((-D/2., D/2.))\n",
    "   ax.axis('scaled')\n",
    "   #\n",
    "   fig.savefig(fname, dpi=300)\n",
    "   fig.clf()\n",
    "   "
   ]
  },
  {
   "cell_type": "markdown",
   "metadata": {},
   "source": [
    "# Generate the animations and save to file"
   ]
  },
  {
   "cell_type": "code",
   "execution_count": null,
   "metadata": {},
   "outputs": [],
   "source": [
    "# Ronchi, fixed light\n",
    "CreateMovie(saveFrame, nFrames, fps, test='Ronchi', fixedLight=True, fringe=stepFringe, nX=1001)\n",
    "# Ronchi, light and grating move together\n",
    "CreateMovie(saveFrame, nFrames, fps, test='Ronchi', fixedLight=False, fringe=stepFringe, nX=1001)\n",
    "\n",
    "# Foucault, fixed light\n",
    "CreateMovie(saveFrame, nFrames, fps, test='Foucault', fixedLight=True, fringe=stepFringe, nX=1001)\n",
    "# Foucault, light and grating move together\n",
    "CreateMovie(saveFrame, nFrames, fps, test='Foucault', fixedLight=False, fringe=stepFringe, nX=1001)\n",
    "\n",
    "# Wire test, fixed light\n",
    "CreateMovie(saveFrame, nFrames, fps, test='Wire', fixedLight=True, fringe=stepFringe, nX=1001)\n",
    "# Wire test, light and grating move together\n",
    "CreateMovie(saveFrame, nFrames, fps, test='Wire', fixedLight=False, fringe=stepFringe, nX=1001)\n",
    "\n",
    "## Manu, fixed light\n",
    "#CreateMovie(saveFrame, nFrames, fps, test='Manu', fixedLight=True, fringe=stepFringe, nX=1001)\n",
    "## Manu, light and grating move together\n",
    "#CreateMovie(saveFrame, nFrames, fps, test='Manu', fixedLight=False, fringe=stepFringe, nX=1001)"
   ]
  }
 ],
 "metadata": {
  "kernelspec": {
   "display_name": "Python 3 (ipykernel)",
   "language": "python",
   "name": "python3"
  },
  "language_info": {
   "codemirror_mode": {
    "name": "ipython",
    "version": 3
   },
   "file_extension": ".py",
   "mimetype": "text/x-python",
   "name": "python",
   "nbconvert_exporter": "python",
   "pygments_lexer": "ipython3",
   "version": "3.9.12"
  }
 },
 "nbformat": 4,
 "nbformat_minor": 2
}
